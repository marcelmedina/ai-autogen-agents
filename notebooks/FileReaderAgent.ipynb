{
 "cells": [
  {
   "cell_type": "code",
   "execution_count": null,
   "metadata": {},
   "outputs": [],
   "source": [
    "import os\n",
    "from autogen_agentchat.agents import AssistantAgent, CodeExecutorAgent\n",
    "from autogen_agentchat.teams import MagenticOneGroupChat, SelectorGroupChat, RoundRobinGroupChat\n",
    "from autogen_ext.agents.file_surfer import FileSurfer\n",
    "from autogen_agentchat.ui import Console\n",
    "from autogen_agentchat.conditions import TextMentionTermination, SourceMatchTermination\n",
    "from autogen_ext.models.openai import AzureOpenAIChatCompletionClient\n",
    "from azure.identity import DefaultAzureCredential, get_bearer_token_provider\n",
    "from dotenv import load_dotenv\n",
    "from pathlib import Path"
   ]
  },
  {
   "cell_type": "code",
   "execution_count": null,
   "metadata": {},
   "outputs": [],
   "source": [
    "# Get the absolute path to the .env file\n",
    "env_path = Path(os.getcwd()).parent / \".env\"\n",
    "\n",
    "# Load the .env file\n",
    "load_dotenv(dotenv_path=env_path)"
   ]
  },
  {
   "cell_type": "code",
   "execution_count": null,
   "metadata": {},
   "outputs": [],
   "source": [
    "# Get environment variable\n",
    "AZURE_AI_SERVICE_NAME = os.getenv(\"AZURE_AI_SERVICE_NAME\")\n",
    "\n",
    "# Create the token provider\n",
    "token_provider = get_bearer_token_provider(DefaultAzureCredential(), \"https://cognitiveservices.azure.com/.default\")\n",
    "\n",
    "az_model_client = AzureOpenAIChatCompletionClient(\n",
    "    azure_deployment=\"gpt-4o\",\n",
    "    api_version=\"2024-05-01-preview\",\n",
    "    model=\"gpt-4o\",\n",
    "    azure_endpoint=f\"https://{AZURE_AI_SERVICE_NAME}.openai.azure.com/\",\n",
    "    azure_ad_token_provider=token_provider,\n",
    ")"
   ]
  },
  {
   "cell_type": "code",
   "execution_count": 3,
   "metadata": {},
   "outputs": [],
   "source": [
    "def read_file_tool(filePath: str):\n",
    "    try:\n",
    "        return file_tool(\"read\", None, filePath)\n",
    "    except Exception as e:\n",
    "        return str(e)\n",
    "\n",
    "def file_tool(operation: str, body: str, filePath: str):\n",
    "    if operation == \"read\":\n",
    "        with open(filePath, \"r\") as f:\n",
    "            return f.read()\n",
    "    elif operation == \"write\":\n",
    "        with open(filePath, \"w\") as f:\n",
    "            f.write(body)\n",
    "            return f\"File {filePath} written successfully\"\n",
    "    else:\n",
    "        raise ValueError(\"Invalid operation\")\n",
    "\n",
    "def directory_write_tool(directory_path: str):\n",
    "    \"\"\"Useful to create a directory with the given path.\"\"\"\n",
    "    if not os.path.exists(directory_path):\n",
    "        os.makedirs(directory_path)\n",
    "        return f\"Directory '{directory_path}' has been created successfully.\"\n",
    "    else:\n",
    "        return f\"Directory '{directory_path}' already exists.\""
   ]
  },
  {
   "cell_type": "code",
   "execution_count": null,
   "metadata": {},
   "outputs": [],
   "source": [
    "tools = [file_tool, directory_write_tool]\n",
    "\n",
    "file_reader = FileSurfer(\n",
    "    name=\"file_reader\",\n",
    "    model_client=az_model_client\n",
    ")\n",
    "\n",
    "# Create the developer agent.\n",
    "developer_agent = AssistantAgent(\n",
    "    name=\"developer\",\n",
    "    model_client=az_model_client,\n",
    "    system_message=\n",
    "    \"\"\"\n",
    "    You are a senior dotnet developer.\n",
    "    Ask the FileSurfer to read the file and provide you with the necessary information.\n",
    "    Don't assume anything for illustrative purposes. You must be provided with the necessary information.\n",
    "    You cannot write the file yourself, but you can read it.\n",
    "    Proceed with implementing the suggested changes after the feedback from the tech-lead. No need to ask for permission.\n",
    "    \"\"\",\n",
    "    tools=[tool for tool in tools]\n",
    ")\n",
    "\n",
    "# Create the developer agent.\n",
    "tester_agent = AssistantAgent(\n",
    "    name=\"tester\",\n",
    "    model_client=az_model_client,\n",
    "    system_message=\n",
    "    \"\"\"\n",
    "    Write and run test cases for the code implemented by the developer.\n",
    "    Write and run test cases for the implemented code. \n",
    "    Your final answer must include test scripts and test results.\n",
    "    You have access to tools which can read files, write files and create directories.\n",
    "    \"\"\",\n",
    "    tools=[tool for tool in tools]\n",
    ")\n",
    "\n",
    "# Create the tech-lead agent.\n",
    "techlead_agent = AssistantAgent(\n",
    "    name=\"techlead\",\n",
    "    model_client=az_model_client,\n",
    "    system_message=\n",
    "    \"\"\"\n",
    "    You are a technical lead.\n",
    "    You should not write code yourself.\n",
    "    You must challenge the developer output and provide constructive feedback according to the best practices.\n",
    "    Don't allow multiple classes in a single file. SPlit them into separate files.\n",
    "    When your feedbacks are addressed, then you can write the files.\n",
    "    Once the file is written, respond with 'FINISH' to terminate the conversation.\n",
    "    \"\"\",\n",
    "    tools=[file_tool]\n",
    ")"
   ]
  },
  {
   "cell_type": "code",
   "execution_count": null,
   "metadata": {},
   "outputs": [],
   "source": [
    "# Define a termination condition that stops the task if the critic approves.\n",
    "text_termination = TextMentionTermination(\"FINISH\")\n",
    "#text_termination = MaxMessageTermination(5)\n",
    "#text_termination = SourceMatchTermination(\"developer\")\n",
    "\n",
    "# Create a team with the primary and critic agents.\n",
    "team = SelectorGroupChat([file_reader, developer_agent, techlead_agent], model_client=az_model_client, max_turns=5, termination_condition=text_termination)"
   ]
  },
  {
   "cell_type": "code",
   "execution_count": null,
   "metadata": {},
   "outputs": [],
   "source": [
    "task = \"The PeopleContract.cs file available in this directory contains a WCF contract. Generate a web api controller that implements the contract.\"\n",
    "await Console(team.run_stream(task=task))"
   ]
  },
  {
   "cell_type": "code",
   "execution_count": null,
   "metadata": {},
   "outputs": [],
   "source": []
  }
 ],
 "metadata": {
  "kernelspec": {
   "display_name": "base",
   "language": "python",
   "name": "python3"
  },
  "language_info": {
   "codemirror_mode": {
    "name": "ipython",
    "version": 3
   },
   "file_extension": ".py",
   "mimetype": "text/x-python",
   "name": "python",
   "nbconvert_exporter": "python",
   "pygments_lexer": "ipython3",
   "version": "3.12.7"
  }
 },
 "nbformat": 4,
 "nbformat_minor": 2
}
